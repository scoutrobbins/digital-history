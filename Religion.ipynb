{
 "cells": [
  {
   "cell_type": "code",
   "execution_count": 143,
   "id": "a6f96852-75f1-4fd1-adb8-c3d65954c65b",
   "metadata": {
    "tags": []
   },
   "outputs": [
    {
     "name": "stdout",
     "output_type": "stream",
     "text": [
      "    File Name  Religious Word Occurences\n",
      "0        3888                          0\n",
      "1        3693                          0\n",
      "2        7608                          0\n",
      "3         712                          0\n",
      "4        3526                          0\n",
      "..        ...                        ...\n",
      "249       723                          0\n",
      "250      7836                          0\n",
      "251      7822                          0\n",
      "252      5760                          1\n",
      "253      8278                          0\n",
      "\n",
      "[254 rows x 2 columns]\n",
      "Total religious Occurrences: 336\n"
     ]
    }
   ],
   "source": [
    "import os\n",
    "import pandas as pd\n",
    "\n",
    "txt_directory = \"/Users/macbookpro/Desktop/Scraping/PERU-SL-txt\"\n",
    "output_file_path = \"/Users/macbookpro/Desktop/Scraping/SL-gender.txt\"\n",
    "\n",
    "keywords = ['católic', 'iglesia', 'relig', 'cristian']\n",
    "dfs = []\n",
    "\n",
    "with open(output_file_path, 'w', encoding='utf-8') as output_file:\n",
    "    for filename in os.listdir(txt_directory):\n",
    "        if filename.endswith(\".txt\"):\n",
    "            txt_file_path = os.path.join(txt_directory, filename)\n",
    "\n",
    "            with open(txt_file_path, 'r', encoding='utf-8') as file:\n",
    "                content = file.read()\n",
    "\n",
    "                total_occurrences = sum(content.lower().count(keyword) for keyword in keywords)\n",
    "                document_title = os.path.splitext(filename)[0]\n",
    "                df = pd.DataFrame({'File Name': [document_title], 'Religious Word Occurences': [total_occurrences]})\n",
    "                dfs.append(df)\n",
    "\n",
    "shining_religion_df = pd.concat(dfs, ignore_index=True)\n",
    "print(shining_religion_df)\n",
    "\n",
    "total_religious_occurrences = shining_religion_df['Religious Word Occurences'].sum()\n",
    "print(\"Total religious Occurrences:\", total_religious_occurrences)\n",
    "\n"
   ]
  },
  {
   "cell_type": "code",
   "execution_count": 144,
   "id": "3afba43c-e2c0-4f08-8e27-1e9915a9b0a1",
   "metadata": {
    "tags": []
   },
   "outputs": [
    {
     "data": {
      "text/html": [
       "<div>\n",
       "<style scoped>\n",
       "    .dataframe tbody tr th:only-of-type {\n",
       "        vertical-align: middle;\n",
       "    }\n",
       "\n",
       "    .dataframe tbody tr th {\n",
       "        vertical-align: top;\n",
       "    }\n",
       "\n",
       "    .dataframe thead th {\n",
       "        text-align: right;\n",
       "    }\n",
       "</style>\n",
       "<table border=\"1\" class=\"dataframe\">\n",
       "  <thead>\n",
       "    <tr style=\"text-align: right;\">\n",
       "      <th></th>\n",
       "      <th>File Name</th>\n",
       "      <th>Religious Word Occurences</th>\n",
       "    </tr>\n",
       "  </thead>\n",
       "  <tbody>\n",
       "    <tr>\n",
       "      <th>214</th>\n",
       "      <td>709</td>\n",
       "      <td>203</td>\n",
       "    </tr>\n",
       "    <tr>\n",
       "      <th>220</th>\n",
       "      <td>655</td>\n",
       "      <td>19</td>\n",
       "    </tr>\n",
       "    <tr>\n",
       "      <th>142</th>\n",
       "      <td>633</td>\n",
       "      <td>17</td>\n",
       "    </tr>\n",
       "    <tr>\n",
       "      <th>79</th>\n",
       "      <td>4149</td>\n",
       "      <td>12</td>\n",
       "    </tr>\n",
       "    <tr>\n",
       "      <th>199</th>\n",
       "      <td>7358</td>\n",
       "      <td>10</td>\n",
       "    </tr>\n",
       "    <tr>\n",
       "      <th>...</th>\n",
       "      <td>...</td>\n",
       "      <td>...</td>\n",
       "    </tr>\n",
       "    <tr>\n",
       "      <th>95</th>\n",
       "      <td>4610</td>\n",
       "      <td>0</td>\n",
       "    </tr>\n",
       "    <tr>\n",
       "      <th>96</th>\n",
       "      <td>7443</td>\n",
       "      <td>0</td>\n",
       "    </tr>\n",
       "    <tr>\n",
       "      <th>97</th>\n",
       "      <td>5913</td>\n",
       "      <td>0</td>\n",
       "    </tr>\n",
       "    <tr>\n",
       "      <th>99</th>\n",
       "      <td>7731</td>\n",
       "      <td>0</td>\n",
       "    </tr>\n",
       "    <tr>\n",
       "      <th>253</th>\n",
       "      <td>8278</td>\n",
       "      <td>0</td>\n",
       "    </tr>\n",
       "  </tbody>\n",
       "</table>\n",
       "<p>254 rows × 2 columns</p>\n",
       "</div>"
      ],
      "text/plain": [
       "    File Name  Religious Word Occurences\n",
       "214       709                        203\n",
       "220       655                         19\n",
       "142       633                         17\n",
       "79       4149                         12\n",
       "199      7358                         10\n",
       "..        ...                        ...\n",
       "95       4610                          0\n",
       "96       7443                          0\n",
       "97       5913                          0\n",
       "99       7731                          0\n",
       "253      8278                          0\n",
       "\n",
       "[254 rows x 2 columns]"
      ]
     },
     "execution_count": 144,
     "metadata": {},
     "output_type": "execute_result"
    }
   ],
   "source": [
    "shining_religion_df.sort_values(by=['Religious Word Occurences'], ascending= False)"
   ]
  },
  {
   "cell_type": "code",
   "execution_count": 36,
   "id": "f737ada5-0024-4046-9b8b-c4924ca7f78a",
   "metadata": {
    "tags": []
   },
   "outputs": [
    {
     "name": "stdout",
     "output_type": "stream",
     "text": [
      "Number of zero values in column 'Religious Word Occurences': 217\n"
     ]
    }
   ],
   "source": [
    "zero_count = (shining_religion_df['Religious Word Occurences'] == 0).sum()\n",
    "print(f\"Number of zero values in column '{'Religious Word Occurences'}': {zero_count}\")"
   ]
  },
  {
   "cell_type": "code",
   "execution_count": 138,
   "id": "d8782009-d46a-4593-b2db-39a08f0c660b",
   "metadata": {
    "tags": []
   },
   "outputs": [
    {
     "name": "stdout",
     "output_type": "stream",
     "text": [
      "    File Name  Religious Word Occurences\n",
      "0        4665                          0\n",
      "1        6099                          0\n",
      "2        3320                          0\n",
      "3        8513                          0\n",
      "4         672                          0\n",
      "..        ...                        ...\n",
      "179       680                          1\n",
      "180      5600                          1\n",
      "181      2033                         17\n",
      "182      5238                          0\n",
      "183      3885                          0\n",
      "\n",
      "[184 rows x 2 columns]\n",
      "Total religious Occurrences: 124\n"
     ]
    }
   ],
   "source": [
    "import os\n",
    "import pandas as pd\n",
    "\n",
    "txt_directory = \"/Users/macbookpro/Desktop/Scraping/MRTA-txt\"\n",
    "output_file_path = \"/Users/macbookpro/Desktop/Scraping/MRTA-gender.txt\"\n",
    "\n",
    "# Keywords \n",
    "#keywords = ['Díos', 'católic', 'iglesia', 'relig', 'cristian']\n",
    "keywords = ['colombia']\n",
    "dfs = []\n",
    "\n",
    "with open(output_file_path, 'w', encoding='utf-8') as output_file:\n",
    "    for filename in os.listdir(txt_directory):\n",
    "        if filename.endswith(\".txt\"):\n",
    "            txt_file_path = os.path.join(txt_directory, filename)\n",
    "\n",
    "            with open(txt_file_path, 'r', encoding='utf-8') as file:\n",
    "                content = file.read()\n",
    "\n",
    "                total_occurrences = sum(content.lower().count(keyword) for keyword in keywords)\n",
    "                document_title = os.path.splitext(filename)[0]\n",
    "                df = pd.DataFrame({'File Name': [document_title], 'Religious Word Occurences': [total_occurrences]})\n",
    "                dfs.append(df)\n",
    "\n",
    "MRTA_religion_df = pd.concat(dfs, ignore_index=True)\n",
    "\n",
    "print(MRTA_religion_df)\n",
    "total_religious_occurrences = MRTA_religion_df['Religious Word Occurences'].sum()\n",
    "print(\"Total religious Occurrences:\", total_religious_occurrences)"
   ]
  },
  {
   "cell_type": "code",
   "execution_count": 139,
   "id": "977f3e84-cccc-4c09-911e-ee3def6339bc",
   "metadata": {
    "tags": []
   },
   "outputs": [
    {
     "data": {
      "text/html": [
       "<div>\n",
       "<style scoped>\n",
       "    .dataframe tbody tr th:only-of-type {\n",
       "        vertical-align: middle;\n",
       "    }\n",
       "\n",
       "    .dataframe tbody tr th {\n",
       "        vertical-align: top;\n",
       "    }\n",
       "\n",
       "    .dataframe thead th {\n",
       "        text-align: right;\n",
       "    }\n",
       "</style>\n",
       "<table border=\"1\" class=\"dataframe\">\n",
       "  <thead>\n",
       "    <tr style=\"text-align: right;\">\n",
       "      <th></th>\n",
       "      <th>File Name</th>\n",
       "      <th>Religious Word Occurences</th>\n",
       "    </tr>\n",
       "  </thead>\n",
       "  <tbody>\n",
       "    <tr>\n",
       "      <th>131</th>\n",
       "      <td>2252</td>\n",
       "      <td>28</td>\n",
       "    </tr>\n",
       "    <tr>\n",
       "      <th>81</th>\n",
       "      <td>1584</td>\n",
       "      <td>21</td>\n",
       "    </tr>\n",
       "    <tr>\n",
       "      <th>181</th>\n",
       "      <td>2033</td>\n",
       "      <td>17</td>\n",
       "    </tr>\n",
       "    <tr>\n",
       "      <th>141</th>\n",
       "      <td>4647</td>\n",
       "      <td>13</td>\n",
       "    </tr>\n",
       "    <tr>\n",
       "      <th>108</th>\n",
       "      <td>3567</td>\n",
       "      <td>7</td>\n",
       "    </tr>\n",
       "    <tr>\n",
       "      <th>...</th>\n",
       "      <td>...</td>\n",
       "      <td>...</td>\n",
       "    </tr>\n",
       "    <tr>\n",
       "      <th>64</th>\n",
       "      <td>2314</td>\n",
       "      <td>0</td>\n",
       "    </tr>\n",
       "    <tr>\n",
       "      <th>65</th>\n",
       "      <td>4943</td>\n",
       "      <td>0</td>\n",
       "    </tr>\n",
       "    <tr>\n",
       "      <th>66</th>\n",
       "      <td>7090</td>\n",
       "      <td>0</td>\n",
       "    </tr>\n",
       "    <tr>\n",
       "      <th>67</th>\n",
       "      <td>7735</td>\n",
       "      <td>0</td>\n",
       "    </tr>\n",
       "    <tr>\n",
       "      <th>183</th>\n",
       "      <td>3885</td>\n",
       "      <td>0</td>\n",
       "    </tr>\n",
       "  </tbody>\n",
       "</table>\n",
       "<p>184 rows × 2 columns</p>\n",
       "</div>"
      ],
      "text/plain": [
       "    File Name  Religious Word Occurences\n",
       "131      2252                         28\n",
       "81       1584                         21\n",
       "181      2033                         17\n",
       "141      4647                         13\n",
       "108      3567                          7\n",
       "..        ...                        ...\n",
       "64       2314                          0\n",
       "65       4943                          0\n",
       "66       7090                          0\n",
       "67       7735                          0\n",
       "183      3885                          0\n",
       "\n",
       "[184 rows x 2 columns]"
      ]
     },
     "execution_count": 139,
     "metadata": {},
     "output_type": "execute_result"
    }
   ],
   "source": [
    "MRTA_religion_df.sort_values(by=['Religious Word Occurences'], ascending= False)"
   ]
  },
  {
   "cell_type": "code",
   "execution_count": 142,
   "id": "ec0f4daa-beae-4ea2-866d-345e8372d1ae",
   "metadata": {
    "tags": []
   },
   "outputs": [
    {
     "name": "stdout",
     "output_type": "stream",
     "text": [
      "Number of zero values in column 'Religious Word Occurences': 159\n"
     ]
    }
   ],
   "source": [
    "zero_count = (MRTA_religion_df['Religious Word Occurences'] == 0).sum()\n",
    "print(f\"Number of zero values in column '{'Religious Word Occurences'}': {zero_count}\")"
   ]
  },
  {
   "cell_type": "code",
   "execution_count": 141,
   "id": "1b2b95b5-7ad0-4e4d-9eed-6a930eb5f2d1",
   "metadata": {
    "tags": []
   },
   "outputs": [
    {
     "name": "stdout",
     "output_type": "stream",
     "text": [
      "    File Name  Religious Word Occurences\n",
      "0        8473                          0\n",
      "1        4261                          1\n",
      "2        7556                          3\n",
      "3        8103                          1\n",
      "4        2822                          0\n",
      "..        ...                        ...\n",
      "152      8457                          0\n",
      "153      8494                          0\n",
      "154      8866                          0\n",
      "155      9562                          0\n",
      "156      3649                         13\n",
      "\n",
      "[157 rows x 2 columns]\n",
      "Total religious Occurrences: 174\n"
     ]
    }
   ],
   "source": [
    "import os\n",
    "import pandas as pd\n",
    "\n",
    "txt_directory = \"/Users/macbookpro/Desktop/Scraping/FMLN-txt\"\n",
    "output_file_path = \"/Users/macbookpro/Desktop/Scraping/FMLN-religion.txt\"\n",
    "\n",
    "keywords = ['Díos', 'católic', 'iglesia', 'relig', 'cristian']\n",
    "\n",
    "dfs = []\n",
    "\n",
    "with open(output_file_path, 'w', encoding='utf-8') as output_file:\n",
    "    for filename in os.listdir(txt_directory):\n",
    "        if filename.endswith(\".txt\"):\n",
    "            txt_file_path = os.path.join(txt_directory, filename)\n",
    "\n",
    "            with open(txt_file_path, 'r', encoding='utf-8') as file:\n",
    "                content = file.read()\n",
    "\n",
    "                total_occurrences = sum(content.lower().count(keyword) for keyword in keywords)\n",
    "\n",
    "                document_title = os.path.splitext(filename)[0]\n",
    "                df = pd.DataFrame({'File Name': [document_title], 'Religious Word Occurences': [total_occurrences]})\n",
    "                dfs.append(df)\n",
    "\n",
    "FMLN_religion_df = pd.concat(dfs, ignore_index=True)\n",
    "print(FMLN_religion_df)\n",
    "\n",
    "total_religious_occurrences = FMLN_religion_df['Religious Word Occurences'].sum()\n",
    "print(\"Total religious Occurrences:\", total_religious_occurrences)"
   ]
  },
  {
   "cell_type": "code",
   "execution_count": 78,
   "id": "b8c51365-1763-41fa-be59-a27e47289ba7",
   "metadata": {
    "tags": []
   },
   "outputs": [
    {
     "data": {
      "text/html": [
       "<div>\n",
       "<style scoped>\n",
       "    .dataframe tbody tr th:only-of-type {\n",
       "        vertical-align: middle;\n",
       "    }\n",
       "\n",
       "    .dataframe tbody tr th {\n",
       "        vertical-align: top;\n",
       "    }\n",
       "\n",
       "    .dataframe thead th {\n",
       "        text-align: right;\n",
       "    }\n",
       "</style>\n",
       "<table border=\"1\" class=\"dataframe\">\n",
       "  <thead>\n",
       "    <tr style=\"text-align: right;\">\n",
       "      <th></th>\n",
       "      <th>File Name</th>\n",
       "      <th>Religious Word Occurences</th>\n",
       "    </tr>\n",
       "  </thead>\n",
       "  <tbody>\n",
       "    <tr>\n",
       "      <th>31</th>\n",
       "      <td>3697</td>\n",
       "      <td>24</td>\n",
       "    </tr>\n",
       "    <tr>\n",
       "      <th>58</th>\n",
       "      <td>9654</td>\n",
       "      <td>21</td>\n",
       "    </tr>\n",
       "    <tr>\n",
       "      <th>69</th>\n",
       "      <td>5332</td>\n",
       "      <td>17</td>\n",
       "    </tr>\n",
       "    <tr>\n",
       "      <th>156</th>\n",
       "      <td>3649</td>\n",
       "      <td>13</td>\n",
       "    </tr>\n",
       "    <tr>\n",
       "      <th>112</th>\n",
       "      <td>7114</td>\n",
       "      <td>10</td>\n",
       "    </tr>\n",
       "    <tr>\n",
       "      <th>...</th>\n",
       "      <td>...</td>\n",
       "      <td>...</td>\n",
       "    </tr>\n",
       "    <tr>\n",
       "      <th>48</th>\n",
       "      <td>8610</td>\n",
       "      <td>0</td>\n",
       "    </tr>\n",
       "    <tr>\n",
       "      <th>47</th>\n",
       "      <td>9268</td>\n",
       "      <td>0</td>\n",
       "    </tr>\n",
       "    <tr>\n",
       "      <th>46</th>\n",
       "      <td>9240</td>\n",
       "      <td>0</td>\n",
       "    </tr>\n",
       "    <tr>\n",
       "      <th>45</th>\n",
       "      <td>8229</td>\n",
       "      <td>0</td>\n",
       "    </tr>\n",
       "    <tr>\n",
       "      <th>78</th>\n",
       "      <td>2531</td>\n",
       "      <td>0</td>\n",
       "    </tr>\n",
       "  </tbody>\n",
       "</table>\n",
       "<p>157 rows × 2 columns</p>\n",
       "</div>"
      ],
      "text/plain": [
       "    File Name  Religious Word Occurences\n",
       "31       3697                         24\n",
       "58       9654                         21\n",
       "69       5332                         17\n",
       "156      3649                         13\n",
       "112      7114                         10\n",
       "..        ...                        ...\n",
       "48       8610                          0\n",
       "47       9268                          0\n",
       "46       9240                          0\n",
       "45       8229                          0\n",
       "78       2531                          0\n",
       "\n",
       "[157 rows x 2 columns]"
      ]
     },
     "execution_count": 78,
     "metadata": {},
     "output_type": "execute_result"
    }
   ],
   "source": [
    "FMLN_religion_df.sort_values(by=['Religious Word Occurences'], ascending= False)"
   ]
  },
  {
   "cell_type": "code",
   "execution_count": 43,
   "id": "0e05c11f-f9a3-4794-8ce3-256cb91b434d",
   "metadata": {
    "tags": []
   },
   "outputs": [
    {
     "name": "stdout",
     "output_type": "stream",
     "text": [
      "Number of zero values in column 'Religious Word Occurences': 114\n"
     ]
    }
   ],
   "source": [
    "zero_count = (FMLN_religion_df['Religious Word Occurences'] == 0).sum()\n",
    "print(f\"Number of zero values in column '{'Religious Word Occurences'}': {zero_count}\")"
   ]
  },
  {
   "cell_type": "code",
   "execution_count": 53,
   "id": "ffa62063-5a06-4e84-8465-3606032aec5f",
   "metadata": {
    "tags": []
   },
   "outputs": [
    {
     "data": {
      "image/png": "[encoded data removed]",
      "text/plain": [
       "<Figure size 640x480 with 1 Axes>"
      ]
     },
     "metadata": {},
     "output_type": "display_data"
    }
   ],
   "source": [
    "grouped_df = FMLN_religion_df.groupby('Religious Word Occurences').count().reset_index()\n",
    "\n",
    "plt.bar(grouped_df['Religious Word Occurences'], grouped_df['File Name'])\n",
    "plt.xlabel('Number of Religious Words')\n",
    "plt.ylabel('Number of Documents')\n",
    "plt.title('Number of FMLN Documents by Religious Word Count')\n",
    "plt.show()"
   ]
  },
  {
   "cell_type": "code",
   "execution_count": 45,
   "id": "64822f84-f64c-4842-b195-d09d475e3d56",
   "metadata": {
    "tags": []
   },
   "outputs": [
    {
     "name": "stdout",
     "output_type": "stream",
     "text": [
      "     File Name        Date\n",
      "0         4177  1989-11-15\n",
      "1         9315  1986-07-01\n",
      "2         8504  1990-01-01\n",
      "3         9250  1984-05-01\n",
      "4         3574  1980-11-03\n",
      "..         ...         ...\n",
      "153       5948  1992-12-15\n",
      "154       8229  1981-01-30\n",
      "155       2624  1984-11-30\n",
      "156       8815  1983-12-16\n",
      "157       8680  1985-07-25\n",
      "\n",
      "[158 rows x 2 columns]\n",
      "    File Name        Date  Religious Word Occurences\n",
      "0        4177  1989-11-15                          0\n",
      "1        9315  1986-07-01                          0\n",
      "2        8504  1990-01-01                          0\n",
      "3        9250  1984-05-01                          0\n",
      "4        3574  1980-11-03                          0\n",
      "..        ...         ...                        ...\n",
      "152      5948  1992-12-15                          2\n",
      "153      8229  1981-01-30                          0\n",
      "154      2624  1984-11-30                          4\n",
      "155      8815  1983-12-16                          0\n",
      "156      8680  1985-07-25                          0\n",
      "\n",
      "[157 rows x 3 columns]\n"
     ]
    }
   ],
   "source": [
    "FMLNdf = pd.read_csv('Desktop/Scraping/FMNLOutput.csv')\n",
    "print(FMLNdf)\n",
    "FMLNdf['File Name'] = FMLNdf['File Name'].astype(str)\n",
    "FMLN_religion_df['File Name'] = FMLN_religion_df['File Name'].astype(str)\n",
    "merged_df = pd.merge(FMLNdf, FMLN_religion_df, on='File Name', how='inner')\n",
    "print(merged_df)"
   ]
  },
  {
   "cell_type": "code",
   "execution_count": 48,
   "id": "59d18cf2-0cb3-476a-a445-b3e5b9052522",
   "metadata": {
    "tags": []
   },
   "outputs": [
    {
     "data": {
      "image/png": "[encoded data removed]",
      "text/plain": [
       "<Figure size 1000x600 with 1 Axes>"
      ]
     },
     "metadata": {},
     "output_type": "display_data"
    }
   ],
   "source": [
    "import matplotlib.pyplot as plt\n",
    "\n",
    "merged_df['Date'] = pd.to_datetime(merged_df['Date'])\n",
    "\n",
    "merged_df = merged_df.sort_values(by='Date')\n",
    "\n",
    "#3-year\n",
    "merged_df['3-Year MA'] = merged_df['Religious Word Occurences'].rolling(window=3*365, min_periods=1).mean()\n",
    "\n",
    "plt.figure(figsize=(10, 6))\n",
    "plt.plot(merged_df['Date'], merged_df['Religious Word Occurences'], label='Original Data', marker='o')\n",
    "\n",
    "plt.plot(merged_df['Date'], merged_df['3-Year MA'], label='3-Year Moving Average', color='red')\n",
    "\n",
    "plt.title('Mentions of Religious Words in FMLN Documents over Time')\n",
    "plt.xlabel('Date of Document')\n",
    "plt.ylabel('Religous Word Occurrences')\n",
    "plt.grid(True)\n",
    "plt.legend()\n",
    "plt.show()"
   ]
  },
  {
   "cell_type": "code",
   "execution_count": 124,
   "id": "7bd335f8-f507-4675-b046-ba96f2e7f097",
   "metadata": {
    "tags": []
   },
   "outputs": [
    {
     "name": "stdout",
     "output_type": "stream",
     "text": [
      "    File Name  Total Mentions\n",
      "0        4665               0\n",
      "1        6099               0\n",
      "2        3320               0\n",
      "3        8513               0\n",
      "4         672               0\n",
      "..        ...             ...\n",
      "179       680               1\n",
      "180      5600               1\n",
      "181      2033              17\n",
      "182      5238               0\n",
      "183      3885               0\n",
      "\n",
      "[184 rows x 2 columns]\n"
     ]
    }
   ],
   "source": [
    "import os\n",
    "import pandas as pd\n",
    "\n",
    "txt_directory = \"/Users/macbookpro/Desktop/Scraping/MRTA-txt\"\n",
    "\n",
    "\n",
    "keywords = ['colombia']  \n",
    "\n",
    "dfs = []\n",
    "\n",
    "for filename in os.listdir(txt_directory):\n",
    "    if filename.endswith(\".txt\"):\n",
    "        txt_file_path = os.path.join(txt_directory, filename)\n",
    "\n",
    "        with open(txt_file_path, 'r', encoding='utf-8') as file:\n",
    "            content = file.read()\n",
    "            keyword_counts = {keyword: content.lower().count(keyword) for keyword in keywords}\n",
    "            total_mentions = sum(keyword_counts.values())\n",
    "            document_title = os.path.splitext(filename)[0]\n",
    "            dfs.append({'File Name': document_title, 'Total Mentions': total_mentions})\n",
    "\n",
    "MRTA_colombia_df = pd.DataFrame(dfs)\n",
    "print(MRTA_colombia_df)"
   ]
  },
  {
   "cell_type": "code",
   "execution_count": 130,
   "id": "cf476751-830d-44fd-9e48-2823aae8622e",
   "metadata": {
    "tags": []
   },
   "outputs": [
    {
     "name": "stdout",
     "output_type": "stream",
     "text": [
      "     File Name        Date\n",
      "0         4931  2012-04-22\n",
      "1         5224  2012-10-08\n",
      "2         3523  1997-10-01\n",
      "3         8816  1999-12-17\n",
      "4         3165  2009-03-29\n",
      "..         ...         ...\n",
      "179       6889  1998-10-01\n",
      "180       3222  2009-04-22\n",
      "181       7518  2000-02-01\n",
      "182       3760  1985-02-01\n",
      "183       9551  1997-04-27\n",
      "\n",
      "[184 rows x 2 columns]\n",
      "    File Name  Total Mentions\n",
      "0        4665               0\n",
      "1        6099               0\n",
      "2        3320               0\n",
      "3        8513               0\n",
      "4         672               0\n",
      "..        ...             ...\n",
      "179       680               1\n",
      "180      5600               1\n",
      "181      2033              17\n",
      "182      5238               0\n",
      "183      3885               0\n",
      "\n",
      "[184 rows x 2 columns]\n",
      "    File Name        Date  Total Mentions\n",
      "0        4931  2012-04-22               0\n",
      "1        5224  2012-10-08               0\n",
      "2        3523  1997-10-01               0\n",
      "3        8816  1999-12-17               0\n",
      "4        3165  2009-03-29               0\n",
      "..        ...         ...             ...\n",
      "179      6889  1998-10-01               0\n",
      "180      3222  2009-04-22               0\n",
      "181      7518  2000-02-01               0\n",
      "182      3760  1985-02-01               0\n",
      "183      9551  1997-04-27               0\n",
      "\n",
      "[184 rows x 3 columns]\n"
     ]
    }
   ],
   "source": [
    "MRTAdf = pd.read_csv('Desktop/Scraping/MRTAOutput.csv')\n",
    "print(MRTAdf)\n",
    "print(MRTA_colombia_df)\n",
    "MRTAdf['File Name'] = MRTAdf['File Name'].astype(str)\n",
    "MRTA_colombia_df['File Name'] = MRTA_colombia_df['File Name'].astype(str)\n",
    "\n",
    "merged_MRTA_df = pd.merge(MRTAdf, MRTA_colombia_df, on='File Name', how='inner')\n",
    "print(merged_MRTA_df)"
   ]
  },
  {
   "cell_type": "code",
   "execution_count": 133,
   "id": "2e4c2f92-17a2-4e4e-9925-77ea7e6b01c1",
   "metadata": {
    "tags": []
   },
   "outputs": [
    {
     "data": {
      "text/html": [
       "<div>\n",
       "<style scoped>\n",
       "    .dataframe tbody tr th:only-of-type {\n",
       "        vertical-align: middle;\n",
       "    }\n",
       "\n",
       "    .dataframe tbody tr th {\n",
       "        vertical-align: top;\n",
       "    }\n",
       "\n",
       "    .dataframe thead th {\n",
       "        text-align: right;\n",
       "    }\n",
       "</style>\n",
       "<table border=\"1\" class=\"dataframe\">\n",
       "  <thead>\n",
       "    <tr style=\"text-align: right;\">\n",
       "      <th></th>\n",
       "      <th>File Name</th>\n",
       "      <th>Date</th>\n",
       "      <th>Total Mentions</th>\n",
       "    </tr>\n",
       "  </thead>\n",
       "  <tbody>\n",
       "    <tr>\n",
       "      <th>131</th>\n",
       "      <td>2252</td>\n",
       "      <td>2007-07-01</td>\n",
       "      <td>28</td>\n",
       "    </tr>\n",
       "    <tr>\n",
       "      <th>149</th>\n",
       "      <td>1584</td>\n",
       "      <td>1990-09-01</td>\n",
       "      <td>21</td>\n",
       "    </tr>\n",
       "    <tr>\n",
       "      <th>108</th>\n",
       "      <td>2033</td>\n",
       "      <td>2007-05-31</td>\n",
       "      <td>17</td>\n",
       "    </tr>\n",
       "    <tr>\n",
       "      <th>104</th>\n",
       "      <td>4647</td>\n",
       "      <td>1986-10-08</td>\n",
       "      <td>13</td>\n",
       "    </tr>\n",
       "    <tr>\n",
       "      <th>10</th>\n",
       "      <td>7700</td>\n",
       "      <td>1986-08-07</td>\n",
       "      <td>7</td>\n",
       "    </tr>\n",
       "    <tr>\n",
       "      <th>118</th>\n",
       "      <td>3567</td>\n",
       "      <td>1989-01-01</td>\n",
       "      <td>7</td>\n",
       "    </tr>\n",
       "    <tr>\n",
       "      <th>29</th>\n",
       "      <td>2515</td>\n",
       "      <td>2008-03-13</td>\n",
       "      <td>5</td>\n",
       "    </tr>\n",
       "    <tr>\n",
       "      <th>23</th>\n",
       "      <td>4156</td>\n",
       "      <td>2010-09-08</td>\n",
       "      <td>5</td>\n",
       "    </tr>\n",
       "    <tr>\n",
       "      <th>81</th>\n",
       "      <td>2620</td>\n",
       "      <td>2008-05-08</td>\n",
       "      <td>3</td>\n",
       "    </tr>\n",
       "    <tr>\n",
       "      <th>153</th>\n",
       "      <td>6596</td>\n",
       "      <td>1986-02-20</td>\n",
       "      <td>2</td>\n",
       "    </tr>\n",
       "  </tbody>\n",
       "</table>\n",
       "</div>"
      ],
      "text/plain": [
       "    File Name        Date  Total Mentions\n",
       "131      2252  2007-07-01              28\n",
       "149      1584  1990-09-01              21\n",
       "108      2033  2007-05-31              17\n",
       "104      4647  1986-10-08              13\n",
       "10       7700  1986-08-07               7\n",
       "118      3567  1989-01-01               7\n",
       "29       2515  2008-03-13               5\n",
       "23       4156  2010-09-08               5\n",
       "81       2620  2008-05-08               3\n",
       "153      6596  1986-02-20               2"
      ]
     },
     "execution_count": 133,
     "metadata": {},
     "output_type": "execute_result"
    }
   ],
   "source": [
    "merged_MRTA_df.sort_values(by=['Total Mentions'], ascending= False).head(10)\n"
   ]
  },
  {
   "cell_type": "code",
   "execution_count": 127,
   "id": "a38476ef-9264-4be4-8e66-6cac977c1dff",
   "metadata": {
    "tags": []
   },
   "outputs": [
    {
     "name": "stdout",
     "output_type": "stream",
     "text": [
      "Number of zero values in column 'Total Mentions': 159\n"
     ]
    }
   ],
   "source": [
    "zero_count = (merged_MRTA_df['Total Mentions'] == 0).sum()\n",
    "\n",
    "print(f\"Number of zero values in column '{'Total Mentions'}': {zero_count}\")"
   ]
  },
  {
   "cell_type": "code",
   "execution_count": 128,
   "id": "6f6003e8-e2df-4222-924f-5d46f58ce380",
   "metadata": {
    "tags": []
   },
   "outputs": [
    {
     "data": {
      "image/png": "[encoded data removed]",
      "text/plain": [
       "<Figure size 1000x600 with 1 Axes>"
      ]
     },
     "metadata": {},
     "output_type": "display_data"
    }
   ],
   "source": [
    "import pandas as pd\n",
    "import matplotlib.pyplot as plt\n",
    "\n",
    "merged_MRTA_df['Date'] = pd.to_datetime(merged_MRTA_df['Date'])\n",
    "\n",
    "merged_MRTA_df = merged_MRTA_df.sort_values(by='Date')\n",
    "\n",
    "merged_MRTA_df['3-Year MA'] = merged_MRTA_df['Total Mentions'].rolling(window=3*365, min_periods=1).mean()\n",
    "\n",
    "plt.figure(figsize=(10, 6))\n",
    "\n",
    "plt.plot(merged_MRTA_df['Date'], merged_MRTA_df['Total Mentions'], label='Original Data', marker='o')\n",
    "\n",
    "plt.plot(merged_MRTA_df['Date'], merged_MRTA_df['3-Year MA'], label='3-Year Moving Average', color='red')\n",
    "\n",
    "plt.title('Mentions of Colombia in SL Documents over Time')\n",
    "plt.xlabel('Date of Document')\n",
    "plt.ylabel('Female Word Occurrences')\n",
    "plt.grid(True)\n",
    "plt.legend()\n",
    "plt.show()"
   ]
  },
  {
   "cell_type": "code",
   "execution_count": null,
   "id": "c12fd797-2c48-4a90-afab-84eb775706c2",
   "metadata": {},
   "outputs": [],
   "source": []
  }
 ],
 "metadata": {
  "kernelspec": {
   "display_name": "Python 3 (ipykernel)",
   "language": "python",
   "name": "python3"
  },
  "language_info": {
   "codemirror_mode": {
    "name": "ipython",
    "version": 3
   },
   "file_extension": ".py",
   "mimetype": "text/x-python",
   "name": "python",
   "nbconvert_exporter": "python",
   "pygments_lexer": "ipython3",
   "version": "3.11.4"
  }
 },
 "nbformat": 4,
 "nbformat_minor": 5
}
