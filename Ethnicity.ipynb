{
 "cells": [
  {
   "cell_type": "code",
   "execution_count": 16,
   "id": "721b09a6-d1a8-47ff-949a-4e35c4af2715",
   "metadata": {
    "tags": []
   },
   "outputs": [
    {
     "name": "stdout",
     "output_type": "stream",
     "text": [
      "    File Name  Indigenous Word Occurences\n",
      "165       635                          12\n",
      "169       634                          12\n",
      "214       709                           2\n",
      "155       637                           2\n",
      "246       657                           2\n",
      "..        ...                         ...\n",
      "89       3590                           0\n",
      "90       9042                           0\n",
      "91       5888                           0\n",
      "92       7866                           0\n",
      "253      8278                           0\n",
      "\n",
      "[254 rows x 2 columns]\n",
      "Total Indigenous word Occurrences: 37\n",
      "Number of zero values in column 'Indigenous Word Occurences': 242\n"
     ]
    }
   ],
   "source": [
    "import os\n",
    "import pandas as pd\n",
    "\n",
    "txt_directory = \"/Users/macbookpro/Desktop/Scraping/PERU-SL-txt\"\n",
    "output_file_path = \"/Users/macbookpro/Desktop/Scraping/SL-ethnicity.txt\"\n",
    "\n",
    "\n",
    "keywords = ['etnic', 'indígen', 'indio']\n",
    "#keywords  = ['mariátegu']\n",
    "\n",
    "\n",
    "dfs = []\n",
    "\n",
    "with open(output_file_path, 'w', encoding='utf-8') as output_file:\n",
    "    for filename in os.listdir(txt_directory):\n",
    "        if filename.endswith(\".txt\"):\n",
    "            txt_file_path = os.path.join(txt_directory, filename)\n",
    "\n",
    "            with open(txt_file_path, 'r', encoding='utf-8') as file:\n",
    "                content = file.read()\n",
    "\n",
    "      \n",
    "                total_occurrences = sum(content.lower().count(keyword) for keyword in keywords)\n",
    "\n",
    "       \n",
    "                document_title = os.path.splitext(filename)[0]\n",
    "                df = pd.DataFrame({'File Name': [document_title], 'Indigenous Word Occurences': [total_occurrences]})\n",
    "                dfs.append(df)\n",
    "\n",
    "\n",
    "shining_ethnicity_df = pd.concat(dfs, ignore_index=True)\n",
    "\n",
    "print(shining_ethnicity_df.sort_values(by=['Indigenous Word Occurences'], ascending= False))\n",
    "\n",
    "\n",
    "total_ethnic_occurrences = shining_ethnicity_df['Indigenous Word Occurences'].sum()\n",
    "print(\"Total Indigenous word Occurrences:\", total_ethnic_occurrences)\n",
    "\n",
    "zero_count = (shining_ethnicity_df['Indigenous Word Occurences'] == 0).sum()\n",
    "print(f\"Number of zero values in column '{'Indigenous Word Occurences'}': {zero_count}\")"
   ]
  },
  {
   "cell_type": "code",
   "execution_count": 23,
   "id": "6986c573-e319-4cea-9221-79775e90c27e",
   "metadata": {
    "tags": []
   },
   "outputs": [
    {
     "name": "stdout",
     "output_type": "stream",
     "text": [
      "    File Name  Indigenous Word Occurences\n",
      "131      2252                           8\n",
      "180      5600                           7\n",
      "149      6124                           5\n",
      "126      2327                           3\n",
      "2        3320                           3\n",
      "..        ...                         ...\n",
      "66       7090                           0\n",
      "67       7735                           0\n",
      "69       3369                           0\n",
      "70       6211                           0\n",
      "183      3885                           0\n",
      "\n",
      "[184 rows x 2 columns]\n",
      "Total Indigenous word Occurrences: 58\n",
      "Number of zero values in column 'Indigenous Word Occurences': 158\n"
     ]
    }
   ],
   "source": [
    "import os\n",
    "import pandas as pd\n",
    "\n",
    "txt_directory = \"/Users/macbookpro/Desktop/Scraping/MRTA-txt\"\n",
    "output_file_path = \"/Users/macbookpro/Desktop/Scraping/MRTA-ethnicity.txt\"\n",
    "\n",
    "\n",
    "keywords = ['etnic', 'indígen', 'indio', 'quechua', 'aymara']\n",
    "#keywords  = ['quechua']\n",
    "\n",
    "dfs = []\n",
    "\n",
    "with open(output_file_path, 'w', encoding='utf-8') as output_file:\n",
    "    for filename in os.listdir(txt_directory):\n",
    "        if filename.endswith(\".txt\"):\n",
    "            txt_file_path = os.path.join(txt_directory, filename)\n",
    "\n",
    "            with open(txt_file_path, 'r', encoding='utf-8') as file:\n",
    "                content = file.read()\n",
    "\n",
    "\n",
    "                total_occurrences = sum(content.lower().count(keyword) for keyword in keywords)\n",
    "\n",
    "\n",
    "                document_title = os.path.splitext(filename)[0]\n",
    "                df = pd.DataFrame({'File Name': [document_title], 'Indigenous Word Occurences': [total_occurrences]})\n",
    "                dfs.append(df)\n",
    "\n",
    "MRTA_ethnicity_df = pd.concat(dfs, ignore_index=True)\n",
    "\n",
    "print(MRTA_ethnicity_df.sort_values(by=['Indigenous Word Occurences'], ascending= False))\n",
    "\n",
    "\n",
    "total_ethnic_occurrences = MRTA_ethnicity_df['Indigenous Word Occurences'].sum()\n",
    "print(\"Total Indigenous word Occurrences:\", total_ethnic_occurrences)\n",
    "\n",
    "zero_count = (MRTA_ethnicity_df['Indigenous Word Occurences'] == 0).sum()\n",
    "print(f\"Number of zero values in column '{'Indigenous Word Occurences'}': {zero_count}\")"
   ]
  },
  {
   "cell_type": "code",
   "execution_count": 24,
   "id": "fd0bc4d5-98ae-4a1f-88b5-1481a89bcc37",
   "metadata": {
    "tags": []
   },
   "outputs": [
    {
     "name": "stdout",
     "output_type": "stream",
     "text": [
      "    File Name  Indigenous Word Occurences\n",
      "93       2240                           3\n",
      "66       3540                           2\n",
      "0        8473                           0\n",
      "99       4740                           0\n",
      "101      9112                           0\n",
      "..        ...                         ...\n",
      "52       8406                           0\n",
      "53       8599                           0\n",
      "54       8228                           0\n",
      "55       5522                           0\n",
      "156      3649                           0\n",
      "\n",
      "[157 rows x 2 columns]\n",
      "Total Indigenous word Occurrences: 5\n",
      "Number of zero values in column 'Indigenous Word Occurences': 155\n"
     ]
    }
   ],
   "source": [
    "import os\n",
    "import pandas as pd\n",
    "\n",
    "txt_directory = \"/Users/macbookpro/Desktop/Scraping/FMLN-txt\"\n",
    "output_file_path = \"/Users/macbookpro/Desktop/Scraping/FMLN-ethnicity.txt\"\n",
    "\n",
    "\n",
    "keywords = ['etnic', 'indígen', 'indio']\n",
    "#keywords  = ['quechua']\n",
    "\n",
    "dfs = []\n",
    "\n",
    "with open(output_file_path, 'w', encoding='utf-8') as output_file:\n",
    "    for filename in os.listdir(txt_directory):\n",
    "        if filename.endswith(\".txt\"):\n",
    "            txt_file_path = os.path.join(txt_directory, filename)\n",
    "\n",
    "            with open(txt_file_path, 'r', encoding='utf-8') as file:\n",
    "                content = file.read()\n",
    "\n",
    "  \n",
    "                total_occurrences = sum(content.lower().count(keyword) for keyword in keywords)\n",
    "\n",
    "\n",
    "                document_title = os.path.splitext(filename)[0]\n",
    "                df = pd.DataFrame({'File Name': [document_title], 'Indigenous Word Occurences': [total_occurrences]})\n",
    "                dfs.append(df)\n",
    "\n",
    "FMLN_ethnicity_df = pd.concat(dfs, ignore_index=True)\n",
    "\n",
    "print(FMLN_ethnicity_df.sort_values(by=['Indigenous Word Occurences'], ascending= False))\n",
    "\n",
    "\n",
    "total_ethnic_occurrences = FMLN_ethnicity_df['Indigenous Word Occurences'].sum()\n",
    "print(\"Total Indigenous word Occurrences:\", total_ethnic_occurrences)\n",
    "\n",
    "zero_count = (FMLN_ethnicity_df['Indigenous Word Occurences'] == 0).sum()\n",
    "print(f\"Number of zero values in column '{'Indigenous Word Occurences'}': {zero_count}\")"
   ]
  },
  {
   "cell_type": "code",
   "execution_count": 30,
   "id": "15b97be0-9827-4589-90e7-77219af65bad",
   "metadata": {
    "tags": []
   },
   "outputs": [
    {
     "data": {
      "text/html": [
       "<div>\n",
       "<style scoped>\n",
       "    .dataframe tbody tr th:only-of-type {\n",
       "        vertical-align: middle;\n",
       "    }\n",
       "\n",
       "    .dataframe tbody tr th {\n",
       "        vertical-align: top;\n",
       "    }\n",
       "\n",
       "    .dataframe thead th {\n",
       "        text-align: right;\n",
       "    }\n",
       "</style>\n",
       "<table border=\"1\" class=\"dataframe\">\n",
       "  <thead>\n",
       "    <tr style=\"text-align: right;\">\n",
       "      <th></th>\n",
       "      <th>Group</th>\n",
       "      <th># Female Terms</th>\n",
       "      <th># Ethnic Terms</th>\n",
       "      <th># Religious Terms</th>\n",
       "      <th>% of documents that mention religion</th>\n",
       "      <th>% of documents that mention ethnicity</th>\n",
       "      <th>Mariategui</th>\n",
       "    </tr>\n",
       "  </thead>\n",
       "  <tbody>\n",
       "    <tr>\n",
       "      <th>0</th>\n",
       "      <td>Shining Path</td>\n",
       "      <td>928</td>\n",
       "      <td>37</td>\n",
       "      <td>336</td>\n",
       "      <td>14.5</td>\n",
       "      <td>0.043307</td>\n",
       "      <td>535 (218 zeros)</td>\n",
       "    </tr>\n",
       "    <tr>\n",
       "      <th>1</th>\n",
       "      <td>MRTA</td>\n",
       "      <td>196</td>\n",
       "      <td>52</td>\n",
       "      <td>97</td>\n",
       "      <td>17.2</td>\n",
       "      <td>0.088888</td>\n",
       "      <td>NaN</td>\n",
       "    </tr>\n",
       "    <tr>\n",
       "      <th>2</th>\n",
       "      <td>FMLN</td>\n",
       "      <td>18</td>\n",
       "      <td>5</td>\n",
       "      <td>174</td>\n",
       "      <td>27.3</td>\n",
       "      <td>0.012700</td>\n",
       "      <td>NaN</td>\n",
       "    </tr>\n",
       "  </tbody>\n",
       "</table>\n",
       "</div>"
      ],
      "text/plain": [
       "           Group   # Female Terms   # Ethnic Terms  # Religious Terms   \\\n",
       "0  Shining Path                928              37                 336   \n",
       "1          MRTA                196              52                  97   \n",
       "2           FMLN                18               5                 174   \n",
       "\n",
       "   % of documents that mention religion   \\\n",
       "0                                   14.5   \n",
       "1                                   17.2   \n",
       "2                                   27.3   \n",
       "\n",
       "   % of documents that mention ethnicity        Mariategui   \n",
       "0                                0.043307  535 (218 zeros)   \n",
       "1                                0.088888               NaN  \n",
       "2                                0.012700               NaN  "
      ]
     },
     "execution_count": 30,
     "metadata": {},
     "output_type": "execute_result"
    }
   ],
   "source": [
    "dfre = pd.read_csv('Downloads/Religon and Ethnicity  - Sheet1 (1).csv')\n",
    "dfre"
   ]
  },
  {
   "cell_type": "code",
   "execution_count": 48,
   "id": "09e8d77a-3bf7-49c1-b569-6ce7654050f5",
   "metadata": {
    "tags": []
   },
   "outputs": [
    {
     "data": {
      "image/png": "[encoded data removed]",
      "text/plain": [
       "<Figure size 1000x600 with 1 Axes>"
      ]
     },
     "metadata": {},
     "output_type": "display_data"
    }
   ],
   "source": [
    "\n",
    "import matplotlib.pyplot as plt\n",
    "\n",
    "# Plotting\n",
    "plt.figure(figsize=(10, 6)) \n",
    "\n",
    "plt.bar(dfre['Group'], dfre['% of documents that mention ethnicity '], label='Language about Ethnicity')\n",
    "plt.xlabel('Group')\n",
    "plt.ylabel('Percentage')\n",
    "plt.title('Percentage of Documents that mention ethnicity')\n",
    "plt.legend()\n",
    "plt.show()\n"
   ]
  },
  {
   "cell_type": "code",
   "execution_count": 46,
   "id": "4de04f79-76c8-4f5e-ab99-fa9ce7ea3ad1",
   "metadata": {
    "tags": []
   },
   "outputs": [
    {
     "data": {
      "image/png": "[encoded data removed]",
      "text/plain": [
       "<Figure size 1000x600 with 1 Axes>"
      ]
     },
     "metadata": {},
     "output_type": "display_data"
    }
   ],
   "source": [
    "\n",
    "import matplotlib.pyplot as plt\n",
    "\n",
    "# Plotting\n",
    "plt.figure(figsize=(10, 6)) \n",
    "plt.bar(dfre['Group'], dfre['% Religious Terms '], label='Language about Religion')\n",
    "plt.xlabel('Group')\n",
    "plt.ylabel('Percentage')\n",
    "plt.title('Mention of Religous words in the documents')\n",
    "plt.legend()  # Show legend\n",
    "plt.show()\n"
   ]
  },
  {
   "cell_type": "code",
   "execution_count": null,
   "id": "a697bac6-cec7-4a0b-81eb-5dd9a3aadda3",
   "metadata": {},
   "outputs": [],
   "source": []
  }
 ],
 "metadata": {
  "kernelspec": {
   "display_name": "Python 3 (ipykernel)",
   "language": "python",
   "name": "python3"
  },
  "language_info": {
   "codemirror_mode": {
    "name": "ipython",
    "version": 3
   },
   "file_extension": ".py",
   "mimetype": "text/x-python",
   "name": "python",
   "nbconvert_exporter": "python",
   "pygments_lexer": "ipython3",
   "version": "3.11.4"
  }
 },
 "nbformat": 4,
 "nbformat_minor": 5
}
